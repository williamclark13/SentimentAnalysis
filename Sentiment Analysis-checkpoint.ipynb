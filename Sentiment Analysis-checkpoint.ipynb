{
 "cells": [
  {
   "cell_type": "markdown",
   "id": "c81f95d0",
   "metadata": {},
   "source": [
    "# Project Description\n"
   ]
  },
  {
   "cell_type": "code",
   "execution_count": 13,
   "id": "4961789e",
   "metadata": {
    "scrolled": true
   },
   "outputs": [],
   "source": [
    "from textblob import TextBlob\n",
    "from newspaper import Article"
   ]
  },
  {
   "cell_type": "code",
   "execution_count": 16,
   "id": "2448185e",
   "metadata": {},
   "outputs": [],
   "source": [
    "url1 = \"https://en.wikipedia.org/wiki/Seychelles_parakeet\"\n",
    "article1 = Article(url1)\n",
    "article1.download()\n",
    "article1.parse()\n",
    "article1.nlp()\n",
    "\n",
    "url2 = \"https://finance.yahoo.com/news/calculating-fair-value-workday-inc-140032350.html\"\n",
    "article2 = Article(url2)\n",
    "article2.download()\n",
    "article2.parse()\n",
    "article2.nlp()\n",
    "\n",
    "url3 = \"https://www.creepypasta.com/the-devils-road/\"\n",
    "article3 = Article(url3)\n",
    "article3.download()\n",
    "article3.parse()\n",
    "article3.nlp()"
   ]
  },
  {
   "cell_type": "code",
   "execution_count": 8,
   "id": "9e3e38f8",
   "metadata": {},
   "outputs": [
    {
     "name": "stdout",
     "output_type": "stream",
     "text": [
      "Extinct bird species once endemic to SeychellesThe Seychelles parakeet or Seychelles Island parrot (Psittacula wardi) is an extinct species of parrot that was endemic to the Seychelles in the Indian Ocean.\n",
      "Kundu and colleagues, 2011:[13] Psittacula eupatria nipalensis (Nepalese Alexandrine parakeet) Psittacula eupatria eupatria (Alexandrine parakeet nominate subspecies) Psittacula eupatria siamensis (Siamese Alexandrine parakeet) Psittacula eupatria magnirostris (Andaman Islands Alexandrine parakeet) Psittacula wardi (Seychelles parakeet) Podsiadlowski and colleagues, 2017:[15] Mascarinus mascarinus (Mascarene parrot) Psittacula wardi (Seychelles parakeet) Psittacula eupatria nipalensis (Nepalese Alexandrine parakeet) Psittacula eupatria magnirostris (Andaman Islands Alexandrine parakeet) Psittacula eupatria siamensis (Siamese Alexandrine parakeet)In 2018, the American ornithologist Kaiya L. Provost and colleagues also found the Mascarene parrot and Tanygnathus species to form a group within Psittacula, making that genus paraphyletic (an unnatural grouping excluding some of its subgroups), and stated this argued for breaking up the latter genus.\n",
      "They placed the Seychelles parakeet in the reinstated genus Palaeornis, along with the Alexandrine parakeet.\n",
      "[4][10][6]The preserved specimens show that the Seychelles parakeet was smaller and had shorter wings, as well as a slightly less robust bill, than the Alexandrine parakeet.\n",
      "While all skeletal elements of the male Alexandrine parakeet were larger than those of the male Seychelles parakeet, an x-radiograph of a female Seychelles parakeet shows that it had a larger cranium, rostrum (upper jaw), mandible, ulna (a lower wing bone), and tibiotarsus (shin bone) than the female Alexandrine parakeet, but a shorter tarsometatarsus and carpometacarpus (outermost wing or hand bone).\n"
     ]
    }
   ],
   "source": [
    "text = article.summary\n",
    "print(text)"
   ]
  },
  {
   "cell_type": "code",
   "execution_count": 19,
   "id": "38794106",
   "metadata": {},
   "outputs": [
    {
     "name": "stdout",
     "output_type": "stream",
     "text": [
      "-0.0007936507936507987\n"
     ]
    }
   ],
   "source": [
    "blob = TextBlob(text)\n",
    "sentiment = blob.sentiment.polarity\n",
    "print(sentiment)"
   ]
  },
  {
   "cell_type": "code",
   "execution_count": 20,
   "id": "15c3596b",
   "metadata": {},
   "outputs": [
    {
     "name": "stdout",
     "output_type": "stream",
     "text": [
      "Key InsightsThe projected fair value for Workday is US$233 based on 2 Stage Free Cash Flow to EquityWith US$223 share price, Workday appears to be trading close to its estimated fair valueAnalyst price target for WDAY is US$234 which is similar to our fair value estimateIn this article we are going to estimate the intrinsic value of Workday, Inc. (NASDAQ:WDAY) by taking the forecast future cash flows of the company and discounting them back to today's value.\n",
      "In the initial period the company may have a higher growth rate and the second stage is usually assumed to have a stable growth rate.\n",
      "For a number of reasons a very conservative growth rate is used that cannot exceed that of a country's GDP growth.\n",
      "In this case we have used the 5-year average of the 10-year government bond yield (2.1%) to estimate future growth.\n",
      "For instance, if the terminal value growth rate is adjusted slightly, it can dramatically alter the overall result.\n"
     ]
    }
   ],
   "source": [
    "text2 = article2.summary\n",
    "print(text2)"
   ]
  },
  {
   "cell_type": "code",
   "execution_count": 21,
   "id": "ba2d033d",
   "metadata": {},
   "outputs": [
    {
     "name": "stdout",
     "output_type": "stream",
     "text": [
      "0.14019607843137258\n"
     ]
    }
   ],
   "source": [
    "blob = TextBlob(text2)\n",
    "sentiment = blob.sentiment.polarity\n",
    "print(sentiment)"
   ]
  },
  {
   "cell_type": "code",
   "execution_count": 22,
   "id": "0ae5f3ce",
   "metadata": {},
   "outputs": [
    {
     "name": "stdout",
     "output_type": "stream",
     "text": [
      "Y’all stay safe while you travel the Devil’s Road with the Outlaws.”Master Sergeant Oscar Greene Jr. cranked the dial of his radio as the resonant tone of Freddie Salem blasted from his twin speakers.\n",
      "The pitch-black country road was devoid of streetlights, leaving only the beams of his headlights to slice through the looming darkness.\n",
      "Even in the cool night air, sweat beaded across his brow and dripped into Oscar’s eyes, stinging them.\n",
      "His hands instinctively veered the steering wheel, guiding his truck towards the edge of the road.\n",
      "Several miles down the road, Oscar let out a breath of relief upon seeing a filling station.\n"
     ]
    }
   ],
   "source": [
    "text3 = article3.summary\n",
    "print(text3)"
   ]
  },
  {
   "cell_type": "code",
   "execution_count": 24,
   "id": "44d100ea",
   "metadata": {},
   "outputs": [
    {
     "name": "stdout",
     "output_type": "stream",
     "text": [
      "-0.0007936507936507987\n"
     ]
    }
   ],
   "source": [
    "blob = TextBlob(text3)\n",
    "sentiment = blob.sentiment.polarity\n",
    "print(sentiment)"
   ]
  }
 ],
 "metadata": {
  "kernelspec": {
   "display_name": "Python 3 (ipykernel)",
   "language": "python",
   "name": "python3"
  },
  "language_info": {
   "codemirror_mode": {
    "name": "ipython",
    "version": 3
   },
   "file_extension": ".py",
   "mimetype": "text/x-python",
   "name": "python",
   "nbconvert_exporter": "python",
   "pygments_lexer": "ipython3",
   "version": "3.9.13"
  }
 },
 "nbformat": 4,
 "nbformat_minor": 5
}
